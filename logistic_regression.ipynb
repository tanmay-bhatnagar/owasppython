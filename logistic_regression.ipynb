{
 "cells": [
  {
   "cell_type": "code",
   "execution_count": 1,
   "metadata": {},
   "outputs": [
    {
     "name": "stderr",
     "output_type": "stream",
     "text": [
      "Using TensorFlow backend.\n"
     ]
    }
   ],
   "source": [
    "from keras.datasets import mnist\n",
    "import matplotlib.pyplot as plt\n",
    "import numpy as np"
   ]
  },
  {
   "cell_type": "code",
   "execution_count": 2,
   "metadata": {},
   "outputs": [],
   "source": [
    "from sklearn.linear_model import LogisticRegression"
   ]
  },
  {
   "cell_type": "code",
   "execution_count": 3,
   "metadata": {},
   "outputs": [],
   "source": [
    "(x_train,y_train) , (x_test , y_test) = mnist.load_data()"
   ]
  },
  {
   "cell_type": "code",
   "execution_count": 4,
   "metadata": {},
   "outputs": [
    {
     "data": {
      "text/plain": [
       "(60000, 28, 28)"
      ]
     },
     "execution_count": 4,
     "metadata": {},
     "output_type": "execute_result"
    }
   ],
   "source": [
    "x_train.shape"
   ]
  },
  {
   "cell_type": "code",
   "execution_count": 5,
   "metadata": {},
   "outputs": [
    {
     "data": {
      "text/plain": [
       "(60000,)"
      ]
     },
     "execution_count": 5,
     "metadata": {},
     "output_type": "execute_result"
    }
   ],
   "source": [
    "y_train.shape"
   ]
  },
  {
   "cell_type": "code",
   "execution_count": 6,
   "metadata": {},
   "outputs": [
    {
     "data": {
      "text/plain": [
       "(10000, 28, 28)"
      ]
     },
     "execution_count": 6,
     "metadata": {},
     "output_type": "execute_result"
    }
   ],
   "source": [
    "x_test.shape"
   ]
  },
  {
   "cell_type": "code",
   "execution_count": 7,
   "metadata": {},
   "outputs": [
    {
     "data": {
      "text/plain": [
       "(10000,)"
      ]
     },
     "execution_count": 7,
     "metadata": {},
     "output_type": "execute_result"
    }
   ],
   "source": [
    "y_test.shape"
   ]
  },
  {
   "cell_type": "code",
   "execution_count": 8,
   "metadata": {},
   "outputs": [
    {
     "data": {
      "text/plain": [
       "<matplotlib.image.AxesImage at 0x7f2fb73d1080>"
      ]
     },
     "execution_count": 8,
     "metadata": {},
     "output_type": "execute_result"
    },
    {
     "data": {
      "image/png": "[encoded data removed]",
      "text/plain": [
       "<Figure size 432x288 with 1 Axes>"
      ]
     },
     "metadata": {
      "needs_background": "light"
     },
     "output_type": "display_data"
    }
   ],
   "source": [
    "#plt.figure(figsize = (1,1))\n",
    "plt.imshow(x_train[1,:,:] , shape = (1,28,28) , cmap = 'gray')"
   ]
  },
  {
   "cell_type": "code",
   "execution_count": 9,
   "metadata": {},
   "outputs": [
    {
     "name": "stdout",
     "output_type": "stream",
     "text": [
      "WARNING:tensorflow:From <ipython-input-9-0ab031df3c93>:5: read_data_sets (from tensorflow.contrib.learn.python.learn.datasets.mnist) is deprecated and will be removed in a future version.\n",
      "Instructions for updating:\n",
      "Please use alternatives such as official/mnist/dataset.py from tensorflow/models.\n",
      "WARNING:tensorflow:From /home/tanmay/.local/lib/python3.5/site-packages/tensorflow/contrib/learn/python/learn/datasets/mnist.py:260: maybe_download (from tensorflow.contrib.learn.python.learn.datasets.base) is deprecated and will be removed in a future version.\n",
      "Instructions for updating:\n",
      "Please write your own downloading logic.\n",
      "WARNING:tensorflow:From /home/tanmay/.local/lib/python3.5/site-packages/tensorflow/contrib/learn/python/learn/datasets/base.py:252: _internal_retry.<locals>.wrap.<locals>.wrapped_fn (from tensorflow.contrib.learn.python.learn.datasets.base) is deprecated and will be removed in a future version.\n",
      "Instructions for updating:\n",
      "Please use urllib or similar directly.\n",
      "Successfully downloaded train-images-idx3-ubyte.gz 9912422 bytes.\n",
      "WARNING:tensorflow:From /home/tanmay/.local/lib/python3.5/site-packages/tensorflow/contrib/learn/python/learn/datasets/mnist.py:262: extract_images (from tensorflow.contrib.learn.python.learn.datasets.mnist) is deprecated and will be removed in a future version.\n",
      "Instructions for updating:\n",
      "Please use tf.data to implement this functionality.\n",
      "Extracting /tmp/data/train-images-idx3-ubyte.gz\n",
      "Successfully downloaded train-labels-idx1-ubyte.gz 28881 bytes.\n",
      "WARNING:tensorflow:From /home/tanmay/.local/lib/python3.5/site-packages/tensorflow/contrib/learn/python/learn/datasets/mnist.py:267: extract_labels (from tensorflow.contrib.learn.python.learn.datasets.mnist) is deprecated and will be removed in a future version.\n",
      "Instructions for updating:\n",
      "Please use tf.data to implement this functionality.\n",
      "Extracting /tmp/data/train-labels-idx1-ubyte.gz\n",
      "Successfully downloaded t10k-images-idx3-ubyte.gz 1648877 bytes.\n",
      "Extracting /tmp/data/t10k-images-idx3-ubyte.gz\n",
      "Successfully downloaded t10k-labels-idx1-ubyte.gz 4542 bytes.\n",
      "Extracting /tmp/data/t10k-labels-idx1-ubyte.gz\n",
      "WARNING:tensorflow:From /home/tanmay/.local/lib/python3.5/site-packages/tensorflow/contrib/learn/python/learn/datasets/mnist.py:290: DataSet.__init__ (from tensorflow.contrib.learn.python.learn.datasets.mnist) is deprecated and will be removed in a future version.\n",
      "Instructions for updating:\n",
      "Please use alternatives such as official/mnist/dataset.py from tensorflow/models.\n"
     ]
    }
   ],
   "source": [
    "import tensorflow as tf\n",
    "\n",
    "# Import MNIST data\n",
    "from tensorflow.examples.tutorials.mnist import input_data\n",
    "mnist = input_data.read_data_sets(\"/tmp/data/\", one_hot=False)"
   ]
  },
  {
   "cell_type": "code",
   "execution_count": 10,
   "metadata": {},
   "outputs": [],
   "source": [
    "x_train = mnist.train.images\n",
    "y_train = mnist.train.labels\n",
    "x_test = mnist.test.images\n",
    "y_test = mnist.test.labels"
   ]
  },
  {
   "cell_type": "code",
   "execution_count": 11,
   "metadata": {},
   "outputs": [
    {
     "data": {
      "text/plain": [
       "(55000,)"
      ]
     },
     "execution_count": 11,
     "metadata": {},
     "output_type": "execute_result"
    }
   ],
   "source": [
    "y_train.shape"
   ]
  },
  {
   "cell_type": "code",
   "execution_count": 66,
   "metadata": {},
   "outputs": [],
   "source": [
    "model = LogisticRegression(random_state = 1337, solver = 'lbfgs', multi_class = 'multinomial',max_iter = 100)\n",
    "#Docs : http://scikit-learn.org/stable/modules/generated/sklearn.linear_model.LogisticRegression.html"
   ]
  },
  {
   "cell_type": "code",
   "execution_count": 67,
   "metadata": {},
   "outputs": [
    {
     "name": "stderr",
     "output_type": "stream",
     "text": [
      "/home/tanmay/.local/lib/python3.5/site-packages/sklearn/linear_model/logistic.py:757: ConvergenceWarning: lbfgs failed to converge. Increase the number of iterations.\n",
      "  \"of iterations.\", ConvergenceWarning)\n"
     ]
    },
    {
     "data": {
      "text/plain": [
       "LogisticRegression(C=1.0, class_weight=None, dual=False, fit_intercept=True,\n",
       "          intercept_scaling=1, max_iter=100, multi_class='multinomial',\n",
       "          n_jobs=None, penalty='l2', random_state=1337, solver='lbfgs',\n",
       "          tol=0.0001, verbose=0, warm_start=False)"
      ]
     },
     "execution_count": 67,
     "metadata": {},
     "output_type": "execute_result"
    }
   ],
   "source": [
    "model.fit(x_train , y_train)"
   ]
  },
  {
   "cell_type": "code",
   "execution_count": 68,
   "metadata": {},
   "outputs": [],
   "source": [
    "results = model.predict(x_test)"
   ]
  },
  {
   "cell_type": "code",
   "execution_count": 69,
   "metadata": {},
   "outputs": [
    {
     "data": {
      "text/plain": [
       "array([7, 2, 1, ..., 4, 5, 6], dtype=uint8)"
      ]
     },
     "execution_count": 69,
     "metadata": {},
     "output_type": "execute_result"
    }
   ],
   "source": [
    "y_test"
   ]
  },
  {
   "cell_type": "code",
   "execution_count": 70,
   "metadata": {},
   "outputs": [
    {
     "data": {
      "text/plain": [
       "0.926"
      ]
     },
     "execution_count": 70,
     "metadata": {},
     "output_type": "execute_result"
    }
   ],
   "source": [
    "model.score(x_test, y_test)"
   ]
  },
  {
   "cell_type": "code",
   "execution_count": 17,
   "metadata": {},
   "outputs": [],
   "source": [
    "#Linear Regression : http://scikit-learn.org/stable/modules/generated/sklearn.linear_model.LinearRegression.html"
   ]
  },
  {
   "cell_type": "code",
   "execution_count": 42,
   "metadata": {},
   "outputs": [],
   "source": [
    "wrong = []\n",
    "for i in range(0,10000):\n",
    "    if results[i] != y_test[i]:\n",
    "        wrong.append(i)"
   ]
  },
  {
   "cell_type": "code",
   "execution_count": 43,
   "metadata": {},
   "outputs": [
    {
     "data": {
      "text/plain": [
       "[8,\n",
       " 33,\n",
       " 63,\n",
       " 66,\n",
       " 149,\n",
       " 193,\n",
       " 217,\n",
       " 233,\n",
       " 241,\n",
       " 245,\n",
       " 247,\n",
       " 259,\n",
       " 300,\n",
       " 307,\n",
       " 320,\n",
       " 321,\n",
       " 340,\n",
       " 344,\n",
       " 352,\n",
       " 362,\n",
       " 381,\n",
       " 403,\n",
       " 406,\n",
       " 412,\n",
       " 445,\n",
       " 448,\n",
       " 468,\n",
       " 478,\n",
       " 479,\n",
       " 502,\n",
       " 507,\n",
       " 528,\n",
       " 531,\n",
       " 536,\n",
       " 542,\n",
       " 543,\n",
       " 551,\n",
       " 565,\n",
       " 569,\n",
       " 578,\n",
       " 582,\n",
       " 583,\n",
       " 591,\n",
       " 613,\n",
       " 619,\n",
       " 628,\n",
       " 629,\n",
       " 659,\n",
       " 684,\n",
       " 691,\n",
       " 692,\n",
       " 707,\n",
       " 717,\n",
       " 720,\n",
       " 728,\n",
       " 740,\n",
       " 741,\n",
       " 760,\n",
       " 781,\n",
       " 791,\n",
       " 829,\n",
       " 839,\n",
       " 844,\n",
       " 857,\n",
       " 874,\n",
       " 877,\n",
       " 881,\n",
       " 882,\n",
       " 890,\n",
       " 898,\n",
       " 938,\n",
       " 939,\n",
       " 947,\n",
       " 950,\n",
       " 951,\n",
       " 956,\n",
       " 965,\n",
       " 975,\n",
       " 982,\n",
       " 999,\n",
       " 1003,\n",
       " 1012,\n",
       " 1014,\n",
       " 1017,\n",
       " 1028,\n",
       " 1032,\n",
       " 1033,\n",
       " 1039,\n",
       " 1044,\n",
       " 1062,\n",
       " 1068,\n",
       " 1082,\n",
       " 1101,\n",
       " 1107,\n",
       " 1112,\n",
       " 1114,\n",
       " 1128,\n",
       " 1178,\n",
       " 1181,\n",
       " 1182,\n",
       " 1191,\n",
       " 1192,\n",
       " 1194,\n",
       " 1198,\n",
       " 1202,\n",
       " 1204,\n",
       " 1206,\n",
       " 1208,\n",
       " 1226,\n",
       " 1232,\n",
       " 1233,\n",
       " 1234,\n",
       " 1242,\n",
       " 1247,\n",
       " 1256,\n",
       " 1260,\n",
       " 1283,\n",
       " 1299,\n",
       " 1310,\n",
       " 1319,\n",
       " 1320,\n",
       " 1325,\n",
       " 1326,\n",
       " 1337,\n",
       " 1364,\n",
       " 1378,\n",
       " 1393,\n",
       " 1410,\n",
       " 1413,\n",
       " 1429,\n",
       " 1433,\n",
       " 1440,\n",
       " 1444,\n",
       " 1466,\n",
       " 1494,\n",
       " 1500,\n",
       " 1522,\n",
       " 1525,\n",
       " 1527,\n",
       " 1530,\n",
       " 1549,\n",
       " 1553,\n",
       " 1559,\n",
       " 1569,\n",
       " 1581,\n",
       " 1587,\n",
       " 1609,\n",
       " 1634,\n",
       " 1640,\n",
       " 1671,\n",
       " 1681,\n",
       " 1686,\n",
       " 1696,\n",
       " 1709,\n",
       " 1717,\n",
       " 1718,\n",
       " 1722,\n",
       " 1751,\n",
       " 1754,\n",
       " 1759,\n",
       " 1765,\n",
       " 1772,\n",
       " 1773,\n",
       " 1774,\n",
       " 1790,\n",
       " 1800,\n",
       " 1813,\n",
       " 1828,\n",
       " 1839,\n",
       " 1850,\n",
       " 1855,\n",
       " 1857,\n",
       " 1865,\n",
       " 1878,\n",
       " 1883,\n",
       " 1899,\n",
       " 1901,\n",
       " 1917,\n",
       " 1926,\n",
       " 1938,\n",
       " 1940,\n",
       " 1941,\n",
       " 1942,\n",
       " 1952,\n",
       " 1970,\n",
       " 1973,\n",
       " 1982,\n",
       " 1984,\n",
       " 2001,\n",
       " 2004,\n",
       " 2016,\n",
       " 2024,\n",
       " 2035,\n",
       " 2040,\n",
       " 2043,\n",
       " 2044,\n",
       " 2053,\n",
       " 2063,\n",
       " 2070,\n",
       " 2098,\n",
       " 2099,\n",
       " 2107,\n",
       " 2109,\n",
       " 2110,\n",
       " 2118,\n",
       " 2125,\n",
       " 2129,\n",
       " 2130,\n",
       " 2135,\n",
       " 2148,\n",
       " 2152,\n",
       " 2182,\n",
       " 2185,\n",
       " 2186,\n",
       " 2189,\n",
       " 2198,\n",
       " 2215,\n",
       " 2224,\n",
       " 2232,\n",
       " 2266,\n",
       " 2272,\n",
       " 2282,\n",
       " 2291,\n",
       " 2293,\n",
       " 2299,\n",
       " 2305,\n",
       " 2312,\n",
       " 2325,\n",
       " 2328,\n",
       " 2362,\n",
       " 2369,\n",
       " 2371,\n",
       " 2380,\n",
       " 2381,\n",
       " 2387,\n",
       " 2393,\n",
       " 2395,\n",
       " 2406,\n",
       " 2408,\n",
       " 2422,\n",
       " 2425,\n",
       " 2433,\n",
       " 2450,\n",
       " 2460,\n",
       " 2462,\n",
       " 2475,\n",
       " 2488,\n",
       " 2514,\n",
       " 2526,\n",
       " 2534,\n",
       " 2542,\n",
       " 2556,\n",
       " 2560,\n",
       " 2573,\n",
       " 2574,\n",
       " 2578,\n",
       " 2582,\n",
       " 2586,\n",
       " 2598,\n",
       " 2607,\n",
       " 2610,\n",
       " 2635,\n",
       " 2648,\n",
       " 2654,\n",
       " 2668,\n",
       " 2670,\n",
       " 2684,\n",
       " 2695,\n",
       " 2698,\n",
       " 2720,\n",
       " 2730,\n",
       " 2760,\n",
       " 2771,\n",
       " 2780,\n",
       " 2810,\n",
       " 2832,\n",
       " 2850,\n",
       " 2863,\n",
       " 2896,\n",
       " 2905,\n",
       " 2906,\n",
       " 2907,\n",
       " 2919,\n",
       " 2921,\n",
       " 2925,\n",
       " 2927,\n",
       " 2945,\n",
       " 2953,\n",
       " 2970,\n",
       " 3005,\n",
       " 3060,\n",
       " 3073,\n",
       " 3110,\n",
       " 3114,\n",
       " 3117,\n",
       " 3130,\n",
       " 3136,\n",
       " 3145,\n",
       " 3157,\n",
       " 3166,\n",
       " 3189,\n",
       " 3193,\n",
       " 3206,\n",
       " 3240,\n",
       " 3245,\n",
       " 3254,\n",
       " 3269,\n",
       " 3280,\n",
       " 3329,\n",
       " 3330,\n",
       " 3333,\n",
       " 3336,\n",
       " 3369,\n",
       " 3377,\n",
       " 3381,\n",
       " 3412,\n",
       " 3422,\n",
       " 3436,\n",
       " 3490,\n",
       " 3503,\n",
       " 3520,\n",
       " 3533,\n",
       " 3549,\n",
       " 3558,\n",
       " 3559,\n",
       " 3565,\n",
       " 3567,\n",
       " 3573,\n",
       " 3574,\n",
       " 3575,\n",
       " 3597,\n",
       " 3604,\n",
       " 3612,\n",
       " 3629,\n",
       " 3674,\n",
       " 3681,\n",
       " 3685,\n",
       " 3688,\n",
       " 3718,\n",
       " 3730,\n",
       " 3751,\n",
       " 3757,\n",
       " 3763,\n",
       " 3764,\n",
       " 3767,\n",
       " 3776,\n",
       " 3780,\n",
       " 3796,\n",
       " 3801,\n",
       " 3808,\n",
       " 3811,\n",
       " 3817,\n",
       " 3821,\n",
       " 3834,\n",
       " 3836,\n",
       " 3838,\n",
       " 3846,\n",
       " 3853,\n",
       " 3855,\n",
       " 3862,\n",
       " 3869,\n",
       " 3876,\n",
       " 3893,\n",
       " 3902,\n",
       " 3906,\n",
       " 3926,\n",
       " 3941,\n",
       " 3943,\n",
       " 3946,\n",
       " 3951,\n",
       " 3962,\n",
       " 3984,\n",
       " 3985,\n",
       " 4000,\n",
       " 4007,\n",
       " 4017,\n",
       " 4063,\n",
       " 4065,\n",
       " 4072,\n",
       " 4075,\n",
       " 4078,\n",
       " 4086,\n",
       " 4131,\n",
       " 4140,\n",
       " 4145,\n",
       " 4152,\n",
       " 4154,\n",
       " 4156,\n",
       " 4163,\n",
       " 4176,\n",
       " 4177,\n",
       " 4199,\n",
       " 4201,\n",
       " 4205,\n",
       " 4211,\n",
       " 4224,\n",
       " 4238,\n",
       " 4239,\n",
       " 4248,\n",
       " 4256,\n",
       " 4265,\n",
       " 4289,\n",
       " 4300,\n",
       " 4302,\n",
       " 4306,\n",
       " 4313,\n",
       " 4315,\n",
       " 4317,\n",
       " 4344,\n",
       " 4355,\n",
       " 4356,\n",
       " 4359,\n",
       " 4369,\n",
       " 4374,\n",
       " 4380,\n",
       " 4405,\n",
       " 4427,\n",
       " 4433,\n",
       " 4435,\n",
       " 4440,\n",
       " 4449,\n",
       " 4451,\n",
       " 4454,\n",
       " 4455,\n",
       " 4463,\n",
       " 4477,\n",
       " 4497,\n",
       " 4498,\n",
       " 4500,\n",
       " 4504,\n",
       " 4523,\n",
       " 4540,\n",
       " 4547,\n",
       " 4548,\n",
       " 4571,\n",
       " 4575,\n",
       " 4578,\n",
       " 4583,\n",
       " 4601,\n",
       " 4615,\n",
       " 4630,\n",
       " 4639,\n",
       " 4656,\n",
       " 4671,\n",
       " 4695,\n",
       " 4731,\n",
       " 4736,\n",
       " 4740,\n",
       " 4751,\n",
       " 4761,\n",
       " 4785,\n",
       " 4807,\n",
       " 4808,\n",
       " 4823,\n",
       " 4827,\n",
       " 4837,\n",
       " 4852,\n",
       " 4860,\n",
       " 4874,\n",
       " 4876,\n",
       " 4879,\n",
       " 4880,\n",
       " 4886,\n",
       " 4890,\n",
       " 4915,\n",
       " 4939,\n",
       " 4950,\n",
       " 4956,\n",
       " 4966,\n",
       " 4981,\n",
       " 4990,\n",
       " 5054,\n",
       " 5065,\n",
       " 5067,\n",
       " 5068,\n",
       " 5078,\n",
       " 5086,\n",
       " 5140,\n",
       " 5143,\n",
       " 5165,\n",
       " 5176,\n",
       " 5183,\n",
       " 5210,\n",
       " 5217,\n",
       " 5246,\n",
       " 5288,\n",
       " 5331,\n",
       " 5409,\n",
       " 5495,\n",
       " 5600,\n",
       " 5608,\n",
       " 5611,\n",
       " 5617,\n",
       " 5620,\n",
       " 5623,\n",
       " 5634,\n",
       " 5642,\n",
       " 5649,\n",
       " 5676,\n",
       " 5677,\n",
       " 5688,\n",
       " 5710,\n",
       " 5734,\n",
       " 5735,\n",
       " 5749,\n",
       " 5821,\n",
       " 5835,\n",
       " 5842,\n",
       " 5862,\n",
       " 5874,\n",
       " 5887,\n",
       " 5888,\n",
       " 5891,\n",
       " 5912,\n",
       " 5913,\n",
       " 5922,\n",
       " 5926,\n",
       " 5936,\n",
       " 5937,\n",
       " 5955,\n",
       " 5972,\n",
       " 5973,\n",
       " 5985,\n",
       " 5992,\n",
       " 6023,\n",
       " 6042,\n",
       " 6043,\n",
       " 6045,\n",
       " 6059,\n",
       " 6065,\n",
       " 6071,\n",
       " 6081,\n",
       " 6091,\n",
       " 6093,\n",
       " 6109,\n",
       " 6111,\n",
       " 6157,\n",
       " 6160,\n",
       " 6166,\n",
       " 6168,\n",
       " 6172,\n",
       " 6173,\n",
       " 6347,\n",
       " 6391,\n",
       " 6400,\n",
       " 6421,\n",
       " 6425,\n",
       " 6426,\n",
       " 6432,\n",
       " 6480,\n",
       " 6505,\n",
       " 6532,\n",
       " 6555,\n",
       " 6560,\n",
       " 6564,\n",
       " 6568,\n",
       " 6571,\n",
       " 6572,\n",
       " 6574,\n",
       " 6575,\n",
       " 6577,\n",
       " 6578,\n",
       " 6597,\n",
       " 6598,\n",
       " 6603,\n",
       " 6625,\n",
       " 6632,\n",
       " 6641,\n",
       " 6643,\n",
       " 6645,\n",
       " 6651,\n",
       " 6721,\n",
       " 6739,\n",
       " 6740,\n",
       " 6744,\n",
       " 6746,\n",
       " 6769,\n",
       " 6775,\n",
       " 6783,\n",
       " 6785,\n",
       " 6796,\n",
       " 6806,\n",
       " 6847,\n",
       " 6885,\n",
       " 6926,\n",
       " 7094,\n",
       " 7121,\n",
       " 7130,\n",
       " 7198,\n",
       " 7208,\n",
       " 7216,\n",
       " 7220,\n",
       " 7338,\n",
       " 7432,\n",
       " 7434,\n",
       " 7444,\n",
       " 7451,\n",
       " 7459,\n",
       " 7473,\n",
       " 7498,\n",
       " 7539,\n",
       " 7545,\n",
       " 7565,\n",
       " 7637,\n",
       " 7713,\n",
       " 7724,\n",
       " 7797,\n",
       " 7800,\n",
       " 7812,\n",
       " 7821,\n",
       " 7839,\n",
       " 7842,\n",
       " 7847,\n",
       " 7849,\n",
       " 7850,\n",
       " 7851,\n",
       " 7856,\n",
       " 7857,\n",
       " 7858,\n",
       " 7859,\n",
       " 7870,\n",
       " 7886,\n",
       " 7888,\n",
       " 7899,\n",
       " 7900,\n",
       " 7905,\n",
       " 7917,\n",
       " 7918,\n",
       " 7921,\n",
       " 7928,\n",
       " 7945,\n",
       " 7990,\n",
       " 7999,\n",
       " 8020,\n",
       " 8047,\n",
       " 8059,\n",
       " 8061,\n",
       " 8062,\n",
       " 8072,\n",
       " 8081,\n",
       " 8091,\n",
       " 8094,\n",
       " 8095,\n",
       " 8183,\n",
       " 8196,\n",
       " 8246,\n",
       " 8272,\n",
       " 8273,\n",
       " 8277,\n",
       " 8279,\n",
       " 8294,\n",
       " 8308,\n",
       " 8339,\n",
       " 8406,\n",
       " 8408,\n",
       " 8410,\n",
       " 8426,\n",
       " 8453,\n",
       " 8456,\n",
       " 8457,\n",
       " 8520,\n",
       " 8522,\n",
       " 8863,\n",
       " 9007,\n",
       " 9009,\n",
       " 9010,\n",
       " 9015,\n",
       " 9016,\n",
       " 9019,\n",
       " 9024,\n",
       " 9036,\n",
       " 9045,\n",
       " 9046,\n",
       " 9071,\n",
       " 9103,\n",
       " 9128,\n",
       " 9141,\n",
       " 9182,\n",
       " 9209,\n",
       " 9280,\n",
       " 9316,\n",
       " 9422,\n",
       " 9433,\n",
       " 9446,\n",
       " 9465,\n",
       " 9482,\n",
       " 9487,\n",
       " 9530,\n",
       " 9534,\n",
       " 9554,\n",
       " 9560,\n",
       " 9587,\n",
       " 9614,\n",
       " 9624,\n",
       " 9634,\n",
       " 9642,\n",
       " 9643,\n",
       " 9662,\n",
       " 9677,\n",
       " 9679,\n",
       " 9692,\n",
       " 9696,\n",
       " 9698,\n",
       " 9700,\n",
       " 9716,\n",
       " 9719,\n",
       " 9729,\n",
       " 9732,\n",
       " 9740,\n",
       " 9744,\n",
       " 9745,\n",
       " 9749,\n",
       " 9764,\n",
       " 9768,\n",
       " 9770,\n",
       " 9777,\n",
       " 9779,\n",
       " 9792,\n",
       " 9808,\n",
       " 9811,\n",
       " 9832,\n",
       " 9839,\n",
       " 9840,\n",
       " 9858,\n",
       " 9867,\n",
       " 9883,\n",
       " 9891,\n",
       " 9892,\n",
       " 9893,\n",
       " 9901,\n",
       " 9905,\n",
       " 9925,\n",
       " 9941,\n",
       " 9943,\n",
       " 9944,\n",
       " 9959,\n",
       " 9970,\n",
       " 9975,\n",
       " 9982,\n",
       " 9986]"
      ]
     },
     "execution_count": 43,
     "metadata": {},
     "output_type": "execute_result"
    }
   ],
   "source": [
    "wrong"
   ]
  },
  {
   "cell_type": "code",
   "execution_count": 25,
   "metadata": {},
   "outputs": [],
   "source": [
    "from numpy import reshape"
   ]
  },
  {
   "cell_type": "code",
   "execution_count": 26,
   "metadata": {},
   "outputs": [
    {
     "data": {
      "text/plain": [
       "(10000, 784)"
      ]
     },
     "execution_count": 26,
     "metadata": {},
     "output_type": "execute_result"
    }
   ],
   "source": [
    "x_test.shape"
   ]
  },
  {
   "cell_type": "code",
   "execution_count": 48,
   "metadata": {},
   "outputs": [
    {
     "data": {
      "text/plain": [
       "740"
      ]
     },
     "execution_count": 48,
     "metadata": {},
     "output_type": "execute_result"
    }
   ],
   "source": [
    "len(wrong)"
   ]
  },
  {
   "cell_type": "code",
   "execution_count": 81,
   "metadata": {},
   "outputs": [
    {
     "data": {
      "text/plain": [
       "<matplotlib.image.AxesImage at 0x7f2fb8b096a0>"
      ]
     },
     "execution_count": 81,
     "metadata": {},
     "output_type": "execute_result"
    },
    {
     "data": {
      "image/png": "[encoded data removed]",
      "text/plain": [
       "<Figure size 432x288 with 1 Axes>"
      ]
     },
     "metadata": {
      "needs_background": "light"
     },
     "output_type": "display_data"
    }
   ],
   "source": [
    "i = 0#Index of wrongly classified image\n",
    "img = reshape(x_test[wrong[i],:] , (28,28))\n",
    "img = img*255\n",
    "plt.imshow(img , shape = (1,28,28) , cmap = 'gray') \n",
    "    "
   ]
  },
  {
   "cell_type": "code",
   "execution_count": 57,
   "metadata": {},
   "outputs": [
    {
     "data": {
      "text/plain": [
       "array([2], dtype=uint8)"
      ]
     },
     "execution_count": 57,
     "metadata": {},
     "output_type": "execute_result"
    }
   ],
   "source": [
    "test = x_test[1,:].reshape(1,-1)\n",
    "model.predict(test)"
   ]
  },
  {
   "cell_type": "code",
   "execution_count": null,
   "metadata": {},
   "outputs": [],
   "source": []
  }
 ],
 "metadata": {
  "kernelspec": {
   "display_name": "Python 3",
   "language": "python",
   "name": "python3"
  },
  "language_info": {
   "codemirror_mode": {
    "name": "ipython",
    "version": 3
   },
   "file_extension": ".py",
   "mimetype": "text/x-python",
   "name": "python",
   "nbconvert_exporter": "python",
   "pygments_lexer": "ipython3",
   "version": "3.5.2"
  }
 },
 "nbformat": 4,
 "nbformat_minor": 2
}
